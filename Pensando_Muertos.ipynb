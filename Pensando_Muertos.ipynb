{
 "cells": [
  {
   "cell_type": "markdown",
   "metadata": {},
   "source": [
    "# Pensamientos y Muertes\n",
    "\n",
    "### Este programa está diseñado para calcular la probabilidad de que una persona A piense/sienta algo sobre otra persona B y la persona B muera en ese mismo día"
   ]
  },
  {
   "cell_type": "markdown",
   "metadata": {},
   "source": [
    "### Primero partiremos introduciendo los datos básicos de población. \n",
    "1. Sabemos que hay 7,5 Giga humanos\n",
    "2. Sabemos que 25% de los humanos son menores de 15 años [1]\n",
    "3. Sabemos que al menos 10% de las personas tienen enfermedades mentales [2]\n",
    "4. Sabemos que al menos 10% de las personas con enfermedades mentales son niños de 14 años o menos [8]\n",
    "\n",
    "Para hacer este cálculo se tendrán que hacer algunas suposiciones:\n",
    "1. Alguien podría pensar que solo la mitad de la población está despierta en un momento dado (ya que la mitad del mundo tiene sol en un momento dado), pero los cálculos los haremos para 24 horas por lo que todos alcanzan a estar despiertos en algún momento.\n",
    "2. Vamos a sacar a personas con enfermedades mentales y a menores de 15, así no tenemos cosas como \"se lo puede haber imaginado\"."
   ]
  },
  {
   "cell_type": "markdown",
   "metadata": {},
   "source": [
    "### Preámbulo\n",
    "Importamos algunas cosas y agregamos los datos antes mencionados"
   ]
  },
  {
   "cell_type": "code",
   "execution_count": 3,
   "metadata": {
    "ExecuteTime": {
     "end_time": "2021-04-27T01:55:06.311959Z",
     "start_time": "2021-04-27T01:55:04.765410Z"
    },
    "code_folding": []
   },
   "outputs": [],
   "source": [
    "#Importamos librerías para plotear y para calcular y hacer las cosas más bonitas\n",
    "#%matplotlib notebook \n",
    "import numpy as np\n",
    "import matplotlib.pyplot as plt\n",
    "%matplotlib inline\n",
    "from mpl_toolkits.mplot3d import Axes3D\n",
    "import ipywidgets as ipw\n",
    "import IPython.display"
   ]
  },
  {
   "cell_type": "code",
   "execution_count": 14,
   "metadata": {
    "ExecuteTime": {
     "end_time": "2021-04-27T01:56:00.492234Z",
     "start_time": "2021-04-27T01:56:00.474284Z"
    },
    "code_folding": []
   },
   "outputs": [
    {
     "name": "stdout",
     "output_type": "stream",
     "text": [
      "La cantidad de población conciente en un momento dado sin problemas mentales y mayor a 15 años es  5012040000.0\n"
     ]
    }
   ],
   "source": [
    "def poblacion_usable(poblacion):\n",
    "    awake     = poblacion\n",
    "    menores   = awake * 0.25\n",
    "    enfermos  = awake * (0.1-0.01)\n",
    "    usables   = awake - menores - enfermos # sacamos a personas con enfermedades mentales y menores de 15 años.\n",
    "    print('La cantidad de población conciente en un momento dado sin problemas mentales y mayor a 15 años es ', usables)\n",
    "    return usables\n",
    "poblacion = 7594000000\n",
    "usables = poblacion_usable(poblacion)"
   ]
  },
  {
   "cell_type": "markdown",
   "metadata": {},
   "source": [
    "### Establecemos la tasa de ocurrencia\n",
    "Se necesita saber cuántas veces al año una persona tiene un pensamiento u emoción fuerte asociado a alguien que conozca, a esto le llamaremos \"la sensación\"\n",
    "Para esto se le pedirá al usuario que introduzca cuantas veces al año ocurre \"la sensación\""
   ]
  },
  {
   "cell_type": "code",
   "execution_count": 5,
   "metadata": {
    "ExecuteTime": {
     "end_time": "2021-04-27T01:55:12.907112Z",
     "start_time": "2021-04-27T01:55:12.888163Z"
    },
    "code_folding": []
   },
   "outputs": [],
   "source": [
    "def ocurrencias(tasa_anual):\n",
    "    poblacion = 7594000000\n",
    "    usables = poblacion_usable(poblacion)\n",
    "    tasa_diaria = (usables*tasa_anual)/365\n",
    "    tasa_hora = tasa_diaria /24\n",
    "    tasa_minuto = tasa_hora / 60\n",
    "    tasa_segundo = tasa_minuto / 60\n",
    "    print('Cantidad de personas piensan o tienen una emoción fuerte asociada a alguien que conocen (truncado sin decimal):')\n",
    "    print('En cada día     :',int(tasa_diaria))\n",
    "    print('En cada hora    :',int(tasa_hora))\n",
    "    print('En cada minuto  :',int(tasa_minuto))\n",
    "    print('En cada segundo :',int(tasa_segundo))"
   ]
  },
  {
   "cell_type": "markdown",
   "metadata": {},
   "source": [
    "### Definimos los widgets"
   ]
  },
  {
   "cell_type": "code",
   "execution_count": 6,
   "metadata": {
    "ExecuteTime": {
     "end_time": "2021-04-27T01:55:15.251259Z",
     "start_time": "2021-04-27T01:55:15.226288Z"
    },
    "code_folding": []
   },
   "outputs": [],
   "source": [
    "slider_tasa = ipw.IntSlider(\n",
    "    min = 1,\n",
    "    max = 365,\n",
    "    step = 1,\n",
    "    description = '# Veces'\n",
    ")"
   ]
  },
  {
   "cell_type": "code",
   "execution_count": 7,
   "metadata": {
    "ExecuteTime": {
     "end_time": "2021-04-27T01:55:16.567086Z",
     "start_time": "2021-04-27T01:55:16.554157Z"
    }
   },
   "outputs": [],
   "source": [
    "slider_tasa_2 = ipw.IntSlider(\n",
    "    min = 1,\n",
    "    max = 365,\n",
    "    step = 1,\n",
    "    description = '# Veces',\n",
    "    continuous_update = False\n",
    ")"
   ]
  },
  {
   "cell_type": "code",
   "execution_count": 8,
   "metadata": {
    "ExecuteTime": {
     "end_time": "2021-04-27T01:55:17.659922Z",
     "start_time": "2021-04-27T01:55:17.643965Z"
    },
    "code_folding": []
   },
   "outputs": [],
   "source": [
    "slider_conocidos = ipw.IntSlider(\n",
    "    min = 1,\n",
    "    max = 536,\n",
    "    step = 1,\n",
    "    description = 'Conocidos'\n",
    ")"
   ]
  },
  {
   "cell_type": "code",
   "execution_count": 9,
   "metadata": {
    "ExecuteTime": {
     "end_time": "2021-04-27T01:55:19.776717Z",
     "start_time": "2021-04-27T01:55:19.758767Z"
    },
    "code_folding": []
   },
   "outputs": [],
   "source": [
    "slider_conocidos_2 = ipw.IntSlider(\n",
    "    min = 1,\n",
    "    max = 536,\n",
    "    step = 1,\n",
    "    description = 'Conocidos',\n",
    "    continuous_update = False\n",
    ")"
   ]
  },
  {
   "cell_type": "markdown",
   "metadata": {},
   "source": [
    "## Primera interacción\n",
    "\n",
    "Con esto podemos comenzar a sospechar que va a ocurrir y nos podemos hacer una idea de como son los datos preliminares"
   ]
  },
  {
   "cell_type": "code",
   "execution_count": 10,
   "metadata": {
    "ExecuteTime": {
     "end_time": "2021-04-27T01:55:21.395673Z",
     "start_time": "2021-04-27T01:55:21.358780Z"
    },
    "code_folding": []
   },
   "outputs": [
    {
     "name": "stdout",
     "output_type": "stream",
     "text": [
      "¿Cuántas veces al año ocurre la sensación? \n"
     ]
    },
    {
     "data": {
      "application/vnd.jupyter.widget-view+json": {
       "model_id": "8bbb1d72411f4f78b0940ecfb950c171",
       "version_major": 2,
       "version_minor": 0
      },
      "text/plain": [
       "interactive(children=(IntSlider(value=1, description='# Veces', max=365, min=1), Output()), _dom_classes=('wid…"
      ]
     },
     "metadata": {},
     "output_type": "display_data"
    }
   ],
   "source": [
    "print('¿Cuántas veces al año ocurre la sensación? ')\n",
    "ipw.interactive(\n",
    "    ocurrencias,\n",
    "    tasa_anual=slider_tasa\n",
    ")"
   ]
  },
  {
   "cell_type": "markdown",
   "metadata": {},
   "source": [
    "## Algunos datos extra a considerar\n",
    "1. A lo largo de 80 años una persona conoce en promedio unas 5000 pesonas en total. [3]\n",
    "2. Una persona cualquiera conoce en general a 535 personas. [4]\n",
    "3. persona cualquiera tiene en general 150 relaciones \"cercanas\" [5]\n",
    "4. Al día mueren 147118 personas [6]\n",
    "5. La esperanza de vida promedio mundial es de 72 años [7]\n",
    "\n",
    "A continuación se deberá calcular la probabilidad de que el evento le ocurra a una persona cualquiera y la probabilidad de que le ocurra a al menos 1 conocido de una persona cualquiera, esto según los 3 datos de grupos de conocidos.\n",
    "\n",
    "Para esto hay que tener en cuenta la siguiente ecuación\n",
    "\n",
    "\n",
    "\\begin{equation}\n",
    "P\\{\\text{Ocurra una vez en N}\\} = 1 - (1-p)^{N}\n",
    "\\end{equation}\n",
    "Donde $P$ es la probabilidad de que algo ucirra al menos una vez de N ocaciones y  $p$ es la probabilidad de que ocurra en una ocación.\n",
    "\n",
    "### Por ejemplo veamos la probabilidad de que en un dado de 6 caras lanzado 4 veces salga al menos una vez el 3\n",
    "\n",
    "La probabilidad de obtener el 3 al lanzar un dado es de $\\frac{1}{6}$, osea 1 de cada 6 veces. Pero si lanzo el dado 10 veces entonces la ecuación quedará\n",
    "\n",
    "\\begin{equation}\n",
    "P\\{\\text{Ocurra una vez en 10}\\} = 1 - (1-\\frac{1}{6})^{10}\n",
    "\\end{equation}\n",
    "\n",
    "cuyo resultado es: 0.838"
   ]
  },
  {
   "cell_type": "code",
   "execution_count": 11,
   "metadata": {
    "ExecuteTime": {
     "end_time": "2021-04-27T01:55:28.298339Z",
     "start_time": "2021-04-27T01:55:28.281345Z"
    },
    "code_folding": [
     0
    ]
   },
   "outputs": [
    {
     "name": "stdout",
     "output_type": "stream",
     "text": [
      "0.8384944171101543\n"
     ]
    }
   ],
   "source": [
    "#calculo del dado\n",
    "print(  1-((1-(1/6))**10)  )"
   ]
  },
  {
   "cell_type": "code",
   "execution_count": 12,
   "metadata": {
    "ExecuteTime": {
     "end_time": "2021-04-27T01:55:29.467271Z",
     "start_time": "2021-04-27T01:55:29.449284Z"
    },
    "code_folding": []
   },
   "outputs": [],
   "source": [
    "#Agreamos datos\n",
    "muertes = 147118"
   ]
  },
  {
   "cell_type": "markdown",
   "metadata": {},
   "source": [
    "### Aplicando a nuestro caso\n",
    "Basandonos en la ecuacion anteior y probabilidad básica tenemos las siguientes ecuaciones\n",
    "1. La probabilidad de que alguien piense en otra persona y esa persona muera ese mismo día está dada por:\n",
    "\n",
    "\\begin{eqnarray}\n",
    "Prob_{ocurre} = \\frac{S}{U}\\cdot\\frac{M}{Pob}\n",
    "\\end{eqnarray}\n",
    "\n",
    "Donde $S$ es la cantidad de personas que en un día cualquiera tienen \"la sensación\", $U$ es la cantidad de población disponible para que eso ocurra (despiertos, conscientes, etc), $M$ es la candtidad de muertes diarias y $Pob$ es la población mundial\n",
    "\n",
    "2. La probabilidad de que esta situación le ocurra a una persona particular a lo largo de su vida es:\n",
    "\n",
    "\\begin{equation}\n",
    "Prob_{persona} = 1-\\left( 1-\\frac{M}{Pob} \\right)^{\\left( \\text{Tasa}\\cdot\\text{Edad} \\right)}\n",
    "\\end{equation}\n",
    "\n",
    "Donde $Tasa$ es la cantidad de veces que la sensación le ocurre a alguien en un año \n",
    "\n",
    "3. La probabilidad de que esta situación le ocurra a almenos 1 conocido de alguien a lo largo de su vida es:\n",
    "\n",
    "\\begin{equation}\n",
    "Prob_{conocido} = 1-\\left( 1-Prob_{persona} \\right)^{\\left(Conocidos\\right)}\n",
    "\\end{equation}"
   ]
  },
  {
   "cell_type": "markdown",
   "metadata": {},
   "source": [
    "## Interactuémos con los datos!\n",
    "\n",
    "A continuación se generan unas barras para poder ver en tiempo real como afectan la cantidad de personas que conocemos y la cantidad de veces al año que podemos tener esta sensación misteriosa"
   ]
  },
  {
   "cell_type": "code",
   "execution_count": 15,
   "metadata": {
    "ExecuteTime": {
     "end_time": "2021-04-27T01:56:07.259793Z",
     "start_time": "2021-04-27T01:56:07.231871Z"
    },
    "code_folding": []
   },
   "outputs": [],
   "source": [
    "def widget_datos(grupo, tasa_anual):\n",
    "    prob_ocur_persona = 1-(1- muertes/poblacion)**(tasa_anual*72)\n",
    "    prob_amigos = 1-(1-prob_ocur_persona)**(grupo)\n",
    "    \n",
    "    prob_ocur_persona_h = 1-(1- (muertes/24)/poblacion)**(tasa_anual*72)\n",
    "    prob_amigos_h = 1-(1-prob_ocur_persona_h)**(grupo)\n",
    "    \n",
    "    prob_ocur_persona_m = 1-(1- (muertes/24/60)/poblacion)**(tasa_anual*72)\n",
    "    prob_amigos_m = 1-(1-prob_ocur_persona_m)**(grupo)\n",
    "    \n",
    "    prob_ocur_persona_s = 1-(1- (muertes/24/60/60)/poblacion)**(tasa_anual*72)\n",
    "    prob_amigos_s = 1-(1-prob_ocur_persona_s)**(grupo)\n",
    "    \n",
    "    tasa_diaria = (usables*tasa_anual)/365\n",
    "    p_muerte_pensado = (tasa_diaria/usables)*(muertes/poblacion) #probabilidad de que una persona sea pensada y que muera\n",
    "    prob_ocur_tu = 1-(1-muertes/poblacion)**(tasa_anual*95)\n",
    "    prob_ocur_tu_h = 1-(1-(muertes/24)/poblacion)**(tasa_anual*95)\n",
    "    prob_ocur_tu_m = 1-(1-(muertes/24/60)/poblacion)**(tasa_anual*95)\n",
    "    prob_ocur_tu_s = 1-(1-(muertes/24/60/60)/poblacion)**(tasa_anual*95)\n",
    "    print('---------------------')\n",
    "    print('Para la cantidad de conocidos ',grupo)\n",
    "    print('La probabilidad de que en 72 años conozcas a alguien que le haya ocurrido es ', prob_amigos)\n",
    "    print('y si queremos que sea exacto a la hora, minuto o segundo? para un conocido que vive hasta los 72 años:')\n",
    "    print('La probabilidad que sea exacto a la hora es ', prob_amigos_h)\n",
    "    print('La probabilidad que sea exacto al minuto es ', prob_amigos_m)\n",
    "    print('La probabilidad que sea exacto al segundo es ', prob_amigos_s)\n",
    "    print('---------------------')\n",
    "    print('---------------------')\n",
    "    print('Al día ',p_muerte_pensado*tasa_diaria, ' personas tienen una sensasión sobre alguien que conocen y ese alguien muere')\n",
    "    print('La probabilidad de que te ocurra a ti aluna vez en 95 años de vida es ', prob_ocur_tu)\n",
    "    print('y si queremos que sea exacto a la hora, minuto o segundo? para alguien que vive 95 años:')\n",
    "    print('La probabilidad que sea exacto a la hora es ', prob_ocur_tu_h)\n",
    "    print('La probabilidad que sea exacto al minuto es ', prob_ocur_tu_m)\n",
    "    print('La probabilidad que sea exacto al segundo es ', prob_ocur_tu_s)\n",
    "    print('---------------------')"
   ]
  },
  {
   "cell_type": "code",
   "execution_count": 16,
   "metadata": {
    "ExecuteTime": {
     "end_time": "2021-04-27T01:56:08.753919Z",
     "start_time": "2021-04-27T01:56:08.727948Z"
    }
   },
   "outputs": [
    {
     "name": "stdout",
     "output_type": "stream",
     "text": [
      "¡Aquí puedes interactuar con los datos!\n",
      "Elige número de conocidos entre 1 y 536\n",
      "Elige el número de veces al año que alguien tiene la sensación entre 1 y 365\n"
     ]
    },
    {
     "data": {
      "application/vnd.jupyter.widget-view+json": {
       "model_id": "edc9e51b4b494eec982f76a695a92a16",
       "version_major": 2,
       "version_minor": 0
      },
      "text/plain": [
       "interactive(children=(IntSlider(value=1, description='Conocidos', max=536, min=1), IntSlider(value=1, descript…"
      ]
     },
     "metadata": {},
     "output_type": "display_data"
    }
   ],
   "source": [
    "print('¡Aquí puedes interactuar con los datos!')\n",
    "print('Elige número de conocidos entre 1 y 536')\n",
    "print('Elige el número de veces al año que alguien tiene la sensación entre 1 y 365')\n",
    "ipw.interactive(\n",
    "    widget_datos,\n",
    "    grupo = slider_conocidos,\n",
    "    tasa_anual = slider_tasa,\n",
    ")"
   ]
  },
  {
   "cell_type": "markdown",
   "metadata": {},
   "source": [
    "## Gráfico interactivo!"
   ]
  },
  {
   "cell_type": "markdown",
   "metadata": {},
   "source": [
    "### Pero primero, algunas funciones..."
   ]
  },
  {
   "cell_type": "code",
   "execution_count": 17,
   "metadata": {
    "ExecuteTime": {
     "end_time": "2021-04-27T01:56:14.741413Z",
     "start_time": "2021-04-27T01:56:14.728448Z"
    },
    "code_folding": []
   },
   "outputs": [],
   "source": [
    "#definimos funcion Prob de tener un conocido que penso en alguien y esa persona murio, en funcion de la edad.\n",
    "def prob_conocer(edad,grupo,tasa_anual):\n",
    "    '''\n",
    "    Probabilidad de concoer a alguien que le haya \"pasado\" (penso en alguien y esa persona murio), en funcion de la edad.\n",
    "    '''\n",
    "    prob_ocur_persona = 1-(1-muertes/poblacion)**(tasa_anual*(edad-15))\n",
    "    prob_amigos = 1-(1-prob_ocur_persona)**(grupo)\n",
    "    if edad>15:\n",
    "        return prob_amigos\n",
    "    else:\n",
    "        return 0"
   ]
  },
  {
   "cell_type": "code",
   "execution_count": 18,
   "metadata": {
    "ExecuteTime": {
     "end_time": "2021-04-27T01:56:18.288727Z",
     "start_time": "2021-04-27T01:56:18.261761Z"
    }
   },
   "outputs": [],
   "source": [
    "#definimos algunas variables útiles y además la función que plotea el primer gráfico\n",
    "\n",
    "def grafico1(grupo,tasa_anual):\n",
    "    edades_numero  = [20, 25, 30, 35, 40, 45, 50, 55, 60, 65, 70, 75]\n",
    "    plt.figure(figsize=(5,3), dpi=300)\n",
    "    plt.plot(range(15,73),[prob_conocer(edad,grupo,tasa_anual) for edad in range(15,73)],label='15-72 años', \n",
    "             marker='.', linewidth=2, markersize = 2, markeredgecolor = 'w')\n",
    "    plt.xlabel('Edad',fontdict={'fontname': 'Corbel', 'fontsize':13})\n",
    "    plt.ylabel('Probabilidad de conocer a alguien que le haya pasado', \n",
    "               fontdict={'fontname': 'Corbel', 'fontsize':8})\n",
    "    plt.title('Probabilidad por edad para '+str(tasa_anual)+' eventos al año',\n",
    "              fontdict={'fontname': 'Corbel', 'fontsize':15})\n",
    "    plt.xticks(edades_numero)\n",
    "    plt.yticks([0,0.1,0.2,0.3,0.4,0.5,0.6,0.7,0.8,0.9,1.0])\n",
    "    plt.grid(b=True, which='major', color='#666666', linestyle='-')\n",
    "    plt.show()"
   ]
  },
  {
   "cell_type": "markdown",
   "metadata": {},
   "source": [
    "### Ahora sí, el gráfico!\n",
    "\n",
    "Vamos a hacer un graficos, el primero será de la probabilidad de conocer a alguien que le ocurra según la edad que queramos."
   ]
  },
  {
   "cell_type": "code",
   "execution_count": 19,
   "metadata": {
    "ExecuteTime": {
     "end_time": "2021-04-27T01:56:25.896786Z",
     "start_time": "2021-04-27T01:56:25.535460Z"
    },
    "code_folding": []
   },
   "outputs": [
    {
     "name": "stdout",
     "output_type": "stream",
     "text": [
      "Puedes utilizar las barras para modificar el número de personas concidas\n",
      "y la cantidad de veces que al año una persona puede tener \"la sensación\".\n"
     ]
    },
    {
     "data": {
      "application/vnd.jupyter.widget-view+json": {
       "model_id": "504146686f034d0596611aa9c70b203e",
       "version_major": 2,
       "version_minor": 0
      },
      "text/plain": [
       "interactive(children=(IntSlider(value=1, continuous_update=False, description='Conocidos', max=536, min=1), In…"
      ]
     },
     "metadata": {},
     "output_type": "display_data"
    }
   ],
   "source": [
    "#Lanzamos el gráfico con widgets\n",
    "print('Puedes utilizar las barras para modificar el número de personas concidas')\n",
    "print('y la cantidad de veces que al año una persona puede tener \"la sensación\".')\n",
    "ipw.interactive(\n",
    "    grafico1,\n",
    "    grupo = slider_conocidos_2,\n",
    "    tasa_anual = slider_tasa_2,\n",
    ")"
   ]
  },
  {
   "cell_type": "markdown",
   "metadata": {},
   "source": [
    "### Ahora con los datos más exactos...\n",
    "A continuación intentaremos ser un poco más estrictos con los datos, esto significa que vamos a aumentar aún más la posibilidad de que esta situación sea una simple casualidad. Este segundo gráfico hará lo mismo pero con datos más exactos de cantidad de conocidos segun edad obtenidos de [3]"
   ]
  },
  {
   "cell_type": "markdown",
   "metadata": {},
   "source": [
    "#### Primero obtenemos los datos"
   ]
  },
  {
   "cell_type": "code",
   "execution_count": 21,
   "metadata": {
    "ExecuteTime": {
     "end_time": "2021-04-27T01:58:18.299232Z",
     "start_time": "2021-04-27T01:58:18.138616Z"
    },
    "code_folding": []
   },
   "outputs": [
    {
     "data": {
      "image/png": "[encoded data removed]",
      "text/plain": [
       "<Figure size 432x288 with 1 Axes>"
      ]
     },
     "metadata": {
      "needs_background": "light"
     },
     "output_type": "display_data"
    }
   ],
   "source": [
    "#Sabemos estos datos\n",
    "edades_string  = ['20-25','25-30','30-35','35-40','40-45','45-50','50-55','55-60','60-65','65-70','70-75','75-80']\n",
    "edades_numero  = [20     , 25    , 30    , 35    , 40    , 45    ,50     , 55    , 60    , 65    , 70    , 75  ]\n",
    "conocidos      = [447    , 875   , 1327  , 1808  , 2282  , 2740  , 3173  , 3581  , 3958  , 4303  , 4611  , 4897]\n",
    "#Pero también sabemos que la progresión es lineal por lo que muestra el gráfico de [3], por lo que le agregaremos \n",
    "#datos a mano para tener una curva más suave en el resultado.\n",
    "#el rango será desde los 15 hasta los 80 años.\n",
    "\n",
    "ed  = list(range(15,81))\n",
    "funcion = np.polyfit(edades_numero,conocidos,1)\n",
    "con = np.poly1d(funcion)\n",
    "plt.figure()\n",
    "plt.xlabel('Edad',fontdict={'fontname': 'Corbel', 'fontsize':15})\n",
    "plt.ylabel('Conocidos',fontdict={'fontname': 'Corbel', 'fontsize':15})\n",
    "plt.title('Ajustando los datos',fontdict={'fontname': 'Corbel', 'fontsize':15})\n",
    "plt.plot(ed,con(ed),label='Ajuste')\n",
    "plt.plot(edades_numero,conocidos,'o',label='Datos')\n",
    "plt.legend()\n",
    "plt.show()"
   ]
  },
  {
   "cell_type": "markdown",
   "metadata": {},
   "source": [
    "#### Definimos funciones nuevas"
   ]
  },
  {
   "cell_type": "code",
   "execution_count": 22,
   "metadata": {
    "ExecuteTime": {
     "end_time": "2021-04-27T01:58:25.347233Z",
     "start_time": "2021-04-27T01:58:25.320305Z"
    },
    "scrolled": true
   },
   "outputs": [],
   "source": [
    "def prob_conocer_2(edad,grupo,tasa_anual):\n",
    "    '''\n",
    "    Probabilidad de concoer a alguien que le haya \"pasado\" (penso en alguien y esa persona murio), en funcion de la edad.\n",
    "    '''\n",
    "    #Creamos vectores para modificar\n",
    "    prob_ocur_persona = list(range(0, len(edad)))\n",
    "    prob_amigos       = list(range(0, len(edad)))\n",
    "    for i in range(len(edad)):\n",
    "        prob_ocur_persona[i] = 1-(1-muertes/poblacion)**(tasa_anual*(edad[i]-15))\n",
    "        prob_amigos[i] = 1-(1-prob_ocur_persona[i])**(grupo[i])\n",
    "    if edad[0]>=15:\n",
    "        return prob_amigos\n",
    "    else:\n",
    "        return 0\n",
    "\n",
    "def grafico2(tasa_anual):\n",
    "    y_fit=prob_conocer_2(ed,con(ed),tasa_anual)\n",
    "    y=prob_conocer_2(edades_numero,conocidos,tasa_anual)\n",
    "    plt.figure(figsize=(5,3), dpi=300)\n",
    "    plt.plot(ed,y_fit, linewidth=2, color= 'orange', label='Curva Ajustada')\n",
    "    plt.plot(edades_numero, y,\n",
    "             marker='.', linewidth=2, markersize = 7, markeredgecolor = 'red',label='Curva Dura')\n",
    "    plt.xlabel('Edad',fontdict={'fontname': 'Corbel', 'fontsize':13})\n",
    "    plt.ylabel('Probabilidad de conocer a alguien que le haya pasado',fontdict={'fontname': 'Corbel', 'fontsize':8})\n",
    "    plt.title('Probabilidad por edad para '+str(tasa_anual)+' eventos al año', fontdict={'fontname': 'Corbel', 'fontsize':15})\n",
    "    plt.xticks(edades_numero)\n",
    "    plt.yticks([0,0.1,0.2,0.3,0.4,0.5,0.6,0.7,0.8,0.9,1.0])\n",
    "    plt.grid(b=True, which='major', color='#666666', linestyle='-')\n",
    "    plt.legend()\n",
    "    plt.show()\n",
    "\n",
    "def prob_conocer_3(edad,grupo, usables,muertes,tasa_anual):\n",
    "    '''\n",
    "    Probabilidad de concoer a alguien que le haya \"pasado\" (penso en alguien y esa persona murio), en funcion de la edad.\n",
    "    '''\n",
    "    prob_ocur_persona = np.zeros( shape=(len(edad),len(tasa_anual)) )  \n",
    "    prob_amigos       = np.zeros( shape=(len(edad),len(tasa_anual)) )  \n",
    "    for i in range(len(edad)):\n",
    "        for j in range(len(tasa_anual)):\n",
    "            prob_ocur_persona[i,j] = 1-(1-muertes/poblacion)**(tasa_anual[j]*(edad[i]-15))\n",
    "            prob_amigos[i,j] = 1-(1-prob_ocur_persona[i,j])**(grupo[i])\n",
    "    return prob_amigos\n",
    "        \n"
   ]
  },
  {
   "cell_type": "markdown",
   "metadata": {},
   "source": [
    "## 2do Gráfico Interactivo!"
   ]
  },
  {
   "cell_type": "code",
   "execution_count": 23,
   "metadata": {
    "ExecuteTime": {
     "end_time": "2021-04-27T01:58:30.614438Z",
     "start_time": "2021-04-27T01:58:30.354423Z"
    },
    "code_folding": [
     2
    ]
   },
   "outputs": [
    {
     "name": "stdout",
     "output_type": "stream",
     "text": [
      "Puedes utilizar las barras para modificar la cantidad de veces que al año una persona puede tener \"la sensación\".\n"
     ]
    },
    {
     "data": {
      "application/vnd.jupyter.widget-view+json": {
       "model_id": "d814bd75dd664ef7bb793ecf0f7eca74",
       "version_major": 2,
       "version_minor": 0
      },
      "text/plain": [
       "interactive(children=(IntSlider(value=5, continuous_update=False, description='# Veces', max=365, min=1), Outp…"
      ]
     },
     "metadata": {},
     "output_type": "display_data"
    }
   ],
   "source": [
    "#Lanzamos el gráfico con widgets\n",
    "print('Puedes utilizar las barras para modificar la cantidad de veces que al año una persona puede tener \"la sensación\".')\n",
    "ipw.interactive(\n",
    "    grafico2,\n",
    "    tasa_anual = slider_tasa_2,\n",
    ")"
   ]
  },
  {
   "cell_type": "markdown",
   "metadata": {},
   "source": [
    "## And for the grand finale\n",
    "Ahora solo queda hacer un gráfico 3D donde se pueda ver como cambia la probabiliad segun la cantidad de eventos anuales y la edad.\n",
    "Este gráfico no será interactivo porque ya tiene toda la información dentro de él"
   ]
  },
  {
   "cell_type": "markdown",
   "metadata": {},
   "source": [
    "### Definimos algunas variables"
   ]
  },
  {
   "cell_type": "code",
   "execution_count": 24,
   "metadata": {
    "ExecuteTime": {
     "end_time": "2021-04-27T01:58:51.945167Z",
     "start_time": "2021-04-27T01:58:51.882392Z"
    },
    "code_folding": [
     0
    ]
   },
   "outputs": [],
   "source": [
    "#creamos los vectores que necesitaremos para generar la matriz\n",
    "tasa_anual_2  = list(range(1,366))\n",
    "tasa_diaria_2  = list(range(1,366))\n",
    "for i in range(0,len(tasa_anual_2)):\n",
    "    tasa_diaria_2 [i] = tasa_anual_2[i]*usables/365\n",
    "\n",
    "#Generamos la matriz con los resultados\n",
    "calculo = prob_conocer_3(ed,con(ed), usables,muertes,tasa_anual_2)"
   ]
  },
  {
   "cell_type": "markdown",
   "metadata": {},
   "source": [
    "### Obtenemos el gráfico"
   ]
  },
  {
   "cell_type": "code",
   "execution_count": 25,
   "metadata": {
    "ExecuteTime": {
     "end_time": "2021-04-27T01:58:53.729912Z",
     "start_time": "2021-04-27T01:58:53.528759Z"
    },
    "code_folding": [
     0
    ]
   },
   "outputs": [
    {
     "data": {
      "image/png": "[encoded data removed]",
      "text/plain": [
       "<Figure size 432x288 with 1 Axes>"
      ]
     },
     "metadata": {
      "needs_background": "light"
     },
     "output_type": "display_data"
    }
   ],
   "source": [
    "#Ahora a plotear\n",
    "fig = plt.figure()\n",
    "ax = fig.add_subplot(1,1,1, projection='3d')\n",
    "\n",
    "#Generams una grilla sobre la cual exponer los resultados\n",
    "X,Y = np.meshgrid(ed,tasa_anual_2)\n",
    "#Transponemos los resultados para que calcen con la grilla\n",
    "Z=np.transpose(calculo)\n",
    "plt.xlabel('Edad')\n",
    "plt.ylabel('Veces por año')\n",
    "#plt.zlabel('Probabiliad')\n",
    "#plt.title('Probabilidad por Edad por Eventos al Año')\n",
    "ax.plot_wireframe(X,Y,Z, color='purple')\n",
    "\n",
    "#ax.title =('Probabilidad por Edad y por Eventos al Año')\n",
    "plt.show()\n",
    "\n"
   ]
  },
  {
   "cell_type": "markdown",
   "metadata": {},
   "source": [
    "## Referencias\n",
    "\n",
    "1. https://datos.bancomundial.org/indicador/SP.POP.0014.TO.ZS\n",
    "2. https://ourworldindata.org/mental-health\n",
    "3. https://elpais.com/tecnologia/2019/07/09/actualidad/1562709377_124629.html\n",
    "4. https://observatoriosociallacaixa.org/-/cuantos-conocidos-tenemos\n",
    "5. https://nationalpost.com/news/world/humans-only-able-to-maintain-five-relationships-in-their-inner-circle-and-150-in-their-outer-circle-study-finds\n",
    "6. https://www.weforum.org/agenda/2020/05/how-many-people-die-each-day-covid-19-coronavirus/\n",
    "7. https://www.google.com/search?q=esperanza+de+vida+promedio+mundial&oq=esperanza+de+vida+promedio&aqs=chrome.0.0j69i57j0l6.5203j0j7&sourceid=chrome&ie=UTF-8\n",
    "8. https://www.mentalhealth.org.uk/statistics/mental-health-statistics-children-and-young-people\n"
   ]
  },
  {
   "cell_type": "code",
   "execution_count": 1,
   "metadata": {},
   "outputs": [
    {
     "name": "stdout",
     "output_type": "stream",
     "text": [
      "99\n"
     ]
    }
   ],
   "source": [
    "n=100\n",
    "for i in range(n):\n",
    "    if i >= n-1:\n",
    "        print(i)"
   ]
  },
  {
   "cell_type": "code",
   "execution_count": null,
   "metadata": {},
   "outputs": [],
   "source": []
  }
 ],
 "metadata": {
  "kernelspec": {
   "display_name": "Python 3",
   "language": "python",
   "name": "python3"
  },
  "language_info": {
   "codemirror_mode": {
    "name": "ipython",
    "version": 3
   },
   "file_extension": ".py",
   "mimetype": "text/x-python",
   "name": "python",
   "nbconvert_exporter": "python",
   "pygments_lexer": "ipython3",
   "version": "3.8.2"
  }
 },
 "nbformat": 4,
 "nbformat_minor": 4
}
