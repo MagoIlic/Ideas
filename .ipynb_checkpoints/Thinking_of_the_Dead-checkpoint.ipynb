{
 "cells": [
  {
   "cell_type": "markdown",
   "metadata": {},
   "source": [
    "# Thoughts and Deaths\n",
    "\n",
    "### This program is designed to calculate the probability that person A thinks/feels something about another person B and person B dies on that same day"
   ]
  },
  {
   "cell_type": "markdown",
   "metadata": {
    "heading_collapsed": true
   },
   "source": [
    "### We'll start by entering basic population data.\n",
    "1. We know there are 7.95 Giga humans (2022)\n",
    "2. We know that 25% of humans are under 15 years old [1]\n",
    "3. We know that at least 10% of people have mental illness [2]\n",
    "4. We know that at least 10% of people with mental illness are children 14 years old or younger [8]\n",
    "\n",
    "To do this calculation, we'll have to make some assumptions:\n",
    "1. Someone might think that only half of the population is awake at any given time (since half of the world has sun at any given time), but we'll do the calculations for 24 hours so everyone gets to be awake at some point.\n",
    "2. We'll take out people with mental illness and people under 15, so we don't have things like \"he could have imagined it.\""
   ]
  },
  {
   "cell_type": "markdown",
   "metadata": {
    "heading_collapsed": true
   },
   "source": [
    "### Preamble\n",
    "We import some stuff and added the above mentioned data"
   ]
  },
  {
   "cell_type": "code",
   "execution_count": 1,
   "metadata": {
    "ExecuteTime": {
     "end_time": "2024-06-12T16:32:32.796077Z",
     "start_time": "2024-06-12T16:32:31.919083Z"
    },
    "code_folding": [],
    "hidden": true
   },
   "outputs": [],
   "source": [
    "#Import libraries for ploting and calculating and to make things pritier\n",
    "#%matplotlib notebook \n",
    "import numpy as np\n",
    "import matplotlib.pyplot as plt\n",
    "%matplotlib inline\n",
    "from mpl_toolkits.mplot3d import Axes3D\n",
    "import ipywidgets as ipw\n",
    "import IPython.display"
   ]
  },
  {
   "cell_type": "code",
   "execution_count": 7,
   "metadata": {
    "ExecuteTime": {
     "end_time": "2024-06-12T16:41:19.829103Z",
     "start_time": "2024-06-12T16:41:19.813114Z"
    },
    "code_folding": [],
    "hidden": true
   },
   "outputs": [
    {
     "name": "stdout",
     "output_type": "stream",
     "text": [
      "The number of conscious population at a given time without mental problems and over 15 years old is  2623500000.0\n",
      "The population without mental problems and over 15 years old is  5247000000.0\n"
     ]
    }
   ],
   "source": [
    "def usable_pop(population):\n",
    "    awake    = population/2\n",
    "    children = awake * 0.25\n",
    "    Children = population * 0.25\n",
    "    sick     = awake * (0.1-0.01)\n",
    "    Sick     = population * (0.1-0.01)\n",
    "    usables  = awake - children - sick # We take out the people with mental illness and children under 15.\n",
    "    Usables  = population - Children - Sick # We take out the people with mental illness and children under 15.\n",
    "    print('The number of conscious population at a given time without mental problems and over 15 years old is ', usables)\n",
    "    return Usables\n",
    "population = 7950000000\n",
    "Usables = usable_pop(population)\n",
    "print('The population without mental problems and over 15 years old is ', Usables)"
   ]
  },
  {
   "cell_type": "markdown",
   "metadata": {
    "heading_collapsed": true
   },
   "source": [
    "### We establish the rate of occurrence\n",
    "We need to know how many times a year a person has a strong thought or emotion associated with someone they know, we will call this `the feeling`\n",
    "For this, the user will be asked to enter how many times a year `the feeling` occurs"
   ]
  },
  {
   "cell_type": "code",
   "execution_count": 8,
   "metadata": {
    "ExecuteTime": {
     "end_time": "2024-06-12T16:45:21.057184Z",
     "start_time": "2024-06-12T16:45:21.041083Z"
    },
    "code_folding": [],
    "hidden": true
   },
   "outputs": [],
   "source": [
    "def ocurring(anual_rate):\n",
    "    daily_rate = (Usables*anual_rate)/365\n",
    "    hourly_rate = daily_rate /24\n",
    "    minute_rate = hourly_rate / 60\n",
    "    second_rate = minute_rate / 60\n",
    "    print('Number of people thinking or having a strong emotion associated with someone they know (truncated without decimal):')\n",
    "    print('In each day :',int(daily_rate))\n",
    "    print('In each hour :',int(hourly_rate))\n",
    "    print('In each minute :',int(minute_rate))\n",
    "    print('In each second :',int(second_rate))"
   ]
  },
  {
   "cell_type": "markdown",
   "metadata": {
    "heading_collapsed": true
   },
   "source": [
    "### Define the widgets"
   ]
  },
  {
   "cell_type": "code",
   "execution_count": 10,
   "metadata": {
    "ExecuteTime": {
     "end_time": "2024-06-12T16:46:15.194734Z",
     "start_time": "2024-06-12T16:46:15.180649Z"
    },
    "code_folding": [],
    "hidden": true
   },
   "outputs": [],
   "source": [
    "slider_rate = ipw.IntSlider(\n",
    "    min = 1,\n",
    "    max = 365,\n",
    "    step = 1,\n",
    "    description = '# Times'\n",
    ")"
   ]
  },
  {
   "cell_type": "code",
   "execution_count": 11,
   "metadata": {
    "ExecuteTime": {
     "end_time": "2024-06-12T16:46:29.549842Z",
     "start_time": "2024-06-12T16:46:29.537629Z"
    },
    "hidden": true
   },
   "outputs": [],
   "source": [
    "slider_rate_2 = ipw.IntSlider(\n",
    "    min = 1,\n",
    "    max = 365,\n",
    "    step = 1,\n",
    "    description = '# Times',\n",
    "    continuous_update = False\n",
    ")"
   ]
  },
  {
   "cell_type": "code",
   "execution_count": 12,
   "metadata": {
    "ExecuteTime": {
     "end_time": "2024-06-12T16:47:14.272494Z",
     "start_time": "2024-06-12T16:47:14.255371Z"
    },
    "code_folding": [],
    "hidden": true
   },
   "outputs": [],
   "source": [
    "slider_aqcuaintance = ipw.IntSlider(\n",
    "    min = 1,\n",
    "    max = 536,\n",
    "    step = 1,\n",
    "    description = 'Aqcuaintance'\n",
    ")"
   ]
  },
  {
   "cell_type": "code",
   "execution_count": 13,
   "metadata": {
    "ExecuteTime": {
     "end_time": "2024-06-12T16:47:28.170619Z",
     "start_time": "2024-06-12T16:47:28.155472Z"
    },
    "code_folding": [],
    "hidden": true
   },
   "outputs": [],
   "source": [
    "slider_aqcuaintance_2 = ipw.IntSlider(\n",
    "    min = 1,\n",
    "    max = 536,\n",
    "    step = 1,\n",
    "    description = 'Aqcuaintance',\n",
    "    continuous_update = False\n",
    ")"
   ]
  },
  {
   "cell_type": "markdown",
   "metadata": {
    "heading_collapsed": true
   },
   "source": [
    "## First interaction\n",
    "\n",
    "With this we can begin to suspect what is going to happen and we can get an idea of ​​what the preliminary data is like"
   ]
  },
  {
   "cell_type": "code",
   "execution_count": 15,
   "metadata": {
    "ExecuteTime": {
     "end_time": "2024-06-12T16:49:29.870522Z",
     "start_time": "2024-06-12T16:49:29.841204Z"
    },
    "code_folding": [],
    "hidden": true
   },
   "outputs": [
    {
     "name": "stdout",
     "output_type": "stream",
     "text": [
      "How many times per year does this FEELING happens to a person? \n"
     ]
    },
    {
     "data": {
      "application/vnd.jupyter.widget-view+json": {
       "model_id": "1411f1b7ac9d42a4bc16f7248582094b",
       "version_major": 2,
       "version_minor": 0
      },
      "text/plain": [
       "interactive(children=(IntSlider(value=37, description='# Times', max=365, min=1), Output()), _dom_classes=('wi…"
      ]
     },
     "metadata": {},
     "output_type": "display_data"
    }
   ],
   "source": [
    "print('How many times per year does this FEELING happens to a person? ')\n",
    "ipw.interactive(\n",
    "    ocurring,\n",
    "    anual_rate=slider_rate\n",
    ")"
   ]
  },
  {
   "cell_type": "markdown",
   "metadata": {
    "heading_collapsed": true
   },
   "source": [
    "## Some extra data to consider\n",
    "1. Over the course of 80 years, a person knows an average of 5,000 people in total. [3]\n",
    "2. A typical person generally knows 535 people. [4]\n",
    "3. A typical person generally has 150 \"close\" relationships [5]\n",
    "4. 147,118 people die every day [6]\n",
    "5. The average life expectancy worldwide is 72 years [7]\n",
    "\n",
    "Next, the probability of the event occurring to a typical person and the probability of it occurring to at least 1 acquaintance of a typical person must be calculated, according to the 3 data sets of acquaintances.\n",
    "\n",
    "For this, the following equation must be taken into account\n",
    "\n",
    "\\begin{equation}\n",
    "P\\{\\text{Occurs once in N}\\} = 1 - (1-p)^{N}\n",
    "\\end{equation}\n",
    "Where $P$ is the probability that something happens at least once out of N occasions and $p$ is the probability that it occurs on one occasion.\n",
    "\n",
    "### For example, let's look at the probability that a 6-sided die rolled 4 times will come up with a 3 at least once\n",
    "\n",
    "The probability of getting a 3 when rolling a die is $\\frac{1}{6}$, or 1 out of every 6 times. But if I roll the die 10 times, then the equation will be\n",
    "\n",
    "\\begin{equation}\n",
    "P\\{\\text{Occurs once in 10}\\} = 1 - (1-\\frac{1}{6})^{10}\n",
    "\\end{equation}\n",
    "\n",
    "whose result is: 0.838, or 83%"
   ]
  },
  {
   "cell_type": "code",
   "execution_count": 17,
   "metadata": {
    "ExecuteTime": {
     "end_time": "2024-06-12T16:51:41.646415Z",
     "start_time": "2024-06-12T16:51:41.637471Z"
    },
    "code_folding": [
     0
    ],
    "hidden": true
   },
   "outputs": [
    {
     "name": "stdout",
     "output_type": "stream",
     "text": [
      "0.8384944171101543\n"
     ]
    }
   ],
   "source": [
    "#calculation for the die\n",
    "print(  1-((1-(1/6))**10)  )"
   ]
  },
  {
   "cell_type": "code",
   "execution_count": 22,
   "metadata": {
    "ExecuteTime": {
     "end_time": "2024-06-12T16:55:47.927568Z",
     "start_time": "2024-06-12T16:55:47.912412Z"
    },
    "code_folding": [],
    "hidden": true
   },
   "outputs": [],
   "source": [
    "#Lets add the data\n",
    "muertes = 147118"
   ]
  },
  {
   "cell_type": "markdown",
   "metadata": {
    "heading_collapsed": true,
    "hidden": true
   },
   "source": [
    "### Applying to our case\n",
    "Based on the previous equation and basic probability we have the following equations\n",
    "1. The probability that someone thinks about another person and that person dies that same day is given by:\n",
    "\n",
    "\\begin{eqnarray}\n",
    "Prob_{occurs} = \\frac{F}{U}\\cdot\\frac{D}{Pop}\n",
    "\\end{eqnarray}\n",
    "\n",
    "Where $F$ is the number of people who on any given day have \"the feeling\", $U$ is the amount of population available for that to happen (awake, conscious, etc.), $D$ is the number of daily deaths and $Pop$ is the world population\n",
    "\n",
    "2. The probability that this situation happens to a particular person throughout his/her life is:\n",
    "\n",
    "\\begin{equation}\n",
    "Prob_{person} = 1-\\left( 1-\\frac{D}{Pop} \\right)^{\\left( \\text{Rate}\\cdot\\text{Age} \\right)}\n",
    "\\end{equation}\n",
    "\n",
    "Where $Rate$ is the number of times the sensation occurs to someone in a year\n",
    "\n",
    "3. The probability that this situation occurs to at least 1 acquaintance of someone over their lifetime is:\n",
    "\n",
    "\\begin{equation}\n",
    "Prob_{acquaintance} = 1-\\left( 1-Prob_{person} \\right)^{\\left(Acquaintances\\right)}\n",
    "\\end{equation}"
   ]
  },
  {
   "cell_type": "markdown",
   "metadata": {
    "heading_collapsed": true
   },
   "source": [
    "## Let's interact with the data!\n",
    "\n",
    "Below are some bars to see in real time how the number of people we know and the number of times a year we can have this mysterious feeling affect us."
   ]
  },
  {
   "cell_type": "code",
   "execution_count": 29,
   "metadata": {
    "ExecuteTime": {
     "end_time": "2024-06-12T17:01:08.858555Z",
     "start_time": "2024-06-12T17:01:08.835021Z"
    },
    "code_folding": [],
    "hidden": true
   },
   "outputs": [],
   "source": [
    "def widget_datos(grupo, tasa_anual):\n",
    "    prob_ocur_persona = 1-(1- muertes/poblacion)**(tasa_anual*72)\n",
    "    prob_amigos = 1-(1-prob_ocur_persona)**(grupo)\n",
    "    \n",
    "    prob_ocur_persona_h = 1-(1- (muertes/24)/poblacion)**(tasa_anual*72)\n",
    "    prob_amigos_h = 1-(1-prob_ocur_persona_h)**(grupo)\n",
    "    \n",
    "    prob_ocur_persona_m = 1-(1- (muertes/24/60)/poblacion)**(tasa_anual*72)\n",
    "    prob_amigos_m = 1-(1-prob_ocur_persona_m)**(grupo)\n",
    "    \n",
    "    prob_ocur_persona_s = 1-(1- (muertes/24/60/60)/poblacion)**(tasa_anual*72)\n",
    "    prob_amigos_s = 1-(1-prob_ocur_persona_s)**(grupo)\n",
    "    \n",
    "    tasa_diaria = (Usables*tasa_anual)/365\n",
    "    p_muerte_pensado = (tasa_diaria/Usables)*(muertes/poblacion) #probabilidad de que una persona sea pensada y que muera\n",
    "    prob_ocur_tu = 1-(1-muertes/poblacion)**(tasa_anual*95)\n",
    "    prob_ocur_tu_h = 1-(1-(muertes/24)/poblacion)**(tasa_anual*95)\n",
    "    prob_ocur_tu_m = 1-(1-(muertes/24/60)/poblacion)**(tasa_anual*95)\n",
    "    prob_ocur_tu_s = 1-(1-(muertes/24/60/60)/poblacion)**(tasa_anual*95)\n",
    "    print('---------------------')\n",
    "    print('For the number of acquaintances ',grupo)\n",
    "    print('The probability that in 72 years you will know someone who has had this happen to them is ', prob_amigos)\n",
    "    print('And if we want it to be exact to the hour, minute or second? For an acquaintance who lives to be 72 years old:')\n",
    "    print('The probability that it is accurate to the hour is ', prob_amigos_h)\n",
    "    print('The probability that it is accurate to the minute is ', prob_amigos_m)\n",
    "    print('The probability that it is exact to the second is ', prob_amigos_s)\n",
    "    print('---------------------')\n",
    "    print('---------------------')\n",
    "    print('On a given day ',p_muerte_pensado*tasa_diaria, ' People have a feeling about someone they know and that someone dies.')\n",
    "    print('The probability of this happening to you once in 95 years of life is ', prob_ocur_tu)\n",
    "    print('And if we want it to be exact to the hour, minute or second? for someone who lives 95 years:')\n",
    "    print('The probability that it is accurate to the hour is ', prob_ocur_tu_h)\n",
    "    print('The probability that it is accurate to the minute is ', prob_ocur_tu_m)\n",
    "    print('The probability that it is exact to the second is ', prob_ocur_tu_s)\n",
    "    print('---------------------')"
   ]
  },
  {
   "cell_type": "code",
   "execution_count": 30,
   "metadata": {
    "ExecuteTime": {
     "end_time": "2024-06-12T17:01:11.827468Z",
     "start_time": "2024-06-12T17:01:11.803204Z"
    },
    "hidden": true
   },
   "outputs": [
    {
     "name": "stdout",
     "output_type": "stream",
     "text": [
      "Here you can interact with the data!\n",
      "Choose the number of acquaintances between 1 and 536\n",
      "Choose the number of times per year that someone has the sensation between 1 and 365\n"
     ]
    },
    {
     "data": {
      "application/vnd.jupyter.widget-view+json": {
       "model_id": "ead251d588294c24b0fbfc832d1253ac",
       "version_major": 2,
       "version_minor": 0
      },
      "text/plain": [
       "interactive(children=(IntSlider(value=536, description='Aqcuaintance', max=536, min=1), IntSlider(value=3, des…"
      ]
     },
     "metadata": {},
     "output_type": "display_data"
    }
   ],
   "source": [
    "print('Here you can interact with the data!')\n",
    "print('Choose the number of acquaintances between 1 and 536')\n",
    "print('Choose the number of times per year that someone has the sensation between 1 and 365')\n",
    "ipw.interactive(\n",
    "    widget_datos,\n",
    "    grupo = slider_aqcuaintance,\n",
    "    tasa_anual = slider_rate,\n",
    ")"
   ]
  },
  {
   "cell_type": "markdown",
   "metadata": {
    "heading_collapsed": true
   },
   "source": [
    "## Interactive Plot!"
   ]
  },
  {
   "cell_type": "markdown",
   "metadata": {
    "heading_collapsed": true,
    "hidden": true
   },
   "source": [
    "### But first, some functions..."
   ]
  },
  {
   "cell_type": "code",
   "execution_count": 35,
   "metadata": {
    "ExecuteTime": {
     "end_time": "2024-06-12T17:13:40.727739Z",
     "start_time": "2024-06-12T17:13:40.710620Z"
    },
    "code_folding": [],
    "hidden": true
   },
   "outputs": [],
   "source": [
    "# function for the probability of having an acquaintance who thought of someone and that person died based on age.\n",
    "def prob_conocer(edad,grupo,tasa_anual):\n",
    "    '''\n",
    "    Probability of knowing someone who has had this happen to them (thinking about someone and that person dying), as a function of age.\n",
    "    '''\n",
    "    prob_ocur_persona = 1-(1-muertes/poblacion)**(tasa_anual*(edad-15))\n",
    "    prob_amigos = 1-(1-prob_ocur_persona)**(grupo)\n",
    "    if edad>15:\n",
    "        return prob_amigos\n",
    "    else:\n",
    "        return 0"
   ]
  },
  {
   "cell_type": "code",
   "execution_count": 36,
   "metadata": {
    "ExecuteTime": {
     "end_time": "2024-06-12T17:14:42.029212Z",
     "start_time": "2024-06-12T17:14:42.009090Z"
    },
    "hidden": true
   },
   "outputs": [],
   "source": [
    "#we define some useful variables and also the function that plots the first graph\n",
    "\n",
    "def grafico1(grupo,tasa_anual):\n",
    "    edades_numero  = [20, 25, 30, 35, 40, 45, 50, 55, 60, 65, 70, 75]\n",
    "    plt.figure(figsize=(5,3), dpi=300)\n",
    "    plt.plot(range(15,73),[prob_conocer(edad,grupo,tasa_anual) for edad in range(15,73)],label='15-72 years', \n",
    "             marker='.', linewidth=2, markersize = 2, markeredgecolor = 'w')\n",
    "    plt.xlabel('Age',fontdict={'fontname': 'Corbel', 'fontsize':13})\n",
    "    plt.ylabel('Probability of knowing someone who has had this happen to them', \n",
    "               fontdict={'fontname': 'Corbel', 'fontsize':8})\n",
    "    plt.title('Probability by age for '+str(tasa_anual)+' events per year',\n",
    "              fontdict={'fontname': 'Corbel', 'fontsize':15})\n",
    "    plt.xticks(edades_numero)\n",
    "    plt.yticks([0,0.1,0.2,0.3,0.4,0.5,0.6,0.7,0.8,0.9,1.0])\n",
    "    plt.grid(b=True, which='major', color='#666666', linestyle='-')\n",
    "    plt.show()"
   ]
  },
  {
   "cell_type": "markdown",
   "metadata": {
    "heading_collapsed": true,
    "hidden": true
   },
   "source": [
    "### Now, the graph!\n",
    "\n",
    "Let's make a graph, the first one will be the probability of meeting someone who happens to you according to the age we want."
   ]
  },
  {
   "cell_type": "code",
   "execution_count": 38,
   "metadata": {
    "ExecuteTime": {
     "end_time": "2024-06-12T17:16:00.434412Z",
     "start_time": "2024-06-12T17:16:00.153882Z"
    },
    "code_folding": [],
    "hidden": true
   },
   "outputs": [
    {
     "name": "stdout",
     "output_type": "stream",
     "text": [
      "You can use the bars to modify the number of people known by any given person\n",
      "and the number of times a year a person can have \"the feeling\".\n"
     ]
    },
    {
     "data": {
      "application/vnd.jupyter.widget-view+json": {
       "model_id": "0ddc4d78ed6146f09fb522b1ab40fc19",
       "version_major": 2,
       "version_minor": 0
      },
      "text/plain": [
       "interactive(children=(IntSlider(value=497, continuous_update=False, description='Aqcuaintance', max=536, min=1…"
      ]
     },
     "metadata": {},
     "output_type": "display_data"
    }
   ],
   "source": [
    "#but with widgets\n",
    "print('You can use the bars to modify the number of people known by any given person')\n",
    "print('and the number of times a year a person can have \"the feeling\".')\n",
    "ipw.interactive(\n",
    "    grafico1,\n",
    "    grupo = slider_aqcuaintance_2,\n",
    "    tasa_anual = slider_rate_2,\n",
    ")"
   ]
  },
  {
   "cell_type": "markdown",
   "metadata": {
    "heading_collapsed": true,
    "hidden": true
   },
   "source": [
    "### Now with the more exact data...\n",
    "Next we will try to be a little more strict with the data, this means that we will further increase the possibility that this situation is a simple coincidence. This second graph will do the same but with more exact data on the number of acquaintances according to age obtained from [3]"
   ]
  },
  {
   "cell_type": "markdown",
   "metadata": {
    "heading_collapsed": true,
    "hidden": true
   },
   "source": [
    "#### As always, first the data"
   ]
  },
  {
   "cell_type": "code",
   "execution_count": 44,
   "metadata": {
    "ExecuteTime": {
     "end_time": "2024-06-12T17:24:15.708392Z",
     "start_time": "2024-06-12T17:24:15.580468Z"
    },
    "code_folding": [],
    "hidden": true
   },
   "outputs": [
    {
     "data": {
      "image/png": "[encoded data removed]",
      "text/plain": [
       "<Figure size 432x288 with 1 Axes>"
      ]
     },
     "metadata": {
      "needs_background": "light"
     },
     "output_type": "display_data"
    }
   ],
   "source": [
    "#string of age ranges\n",
    "edades_string  = ['20-25','25-30','30-35','35-40','40-45','45-50','50-55','55-60','60-65','65-70','70-75','75-80']\n",
    "#string of age numbers\n",
    "edades_numero  = [20     , 25    , 30    , 35    , 40    , 45    ,50     , 55    , 60    , 65    , 70    , 75  ]\n",
    "#string of aqcuaintances\n",
    "conocidos      = [447    , 875   , 1327  , 1808  , 2282  , 2740  , 3173  , 3581  , 3958  , 4303  , 4611  , 4897]\n",
    "#But we also know that the progression is linear as shown in the graph in [3], so we will add\n",
    "#manual data to have a smoother curve in the result.\n",
    "#The range will be from 15 to 80 years.\n",
    "\n",
    "ed  = list(range(15,81))\n",
    "funcion = np.polyfit(edades_numero,conocidos,1)\n",
    "con = np.poly1d(funcion)\n",
    "plt.figure()\n",
    "plt.xlabel('Age',fontdict={'fontname': 'Corbel', 'fontsize':15})\n",
    "plt.ylabel('Aqcuaintances',fontdict={'fontname': 'Corbel', 'fontsize':15})\n",
    "plt.title('Fitting the data',fontdict={'fontname': 'Corbel', 'fontsize':15})\n",
    "plt.plot(ed,con(ed),label='Fit')\n",
    "plt.plot(edades_numero,conocidos,'o',label='Datos')\n",
    "plt.legend()\n",
    "plt.show()"
   ]
  },
  {
   "cell_type": "markdown",
   "metadata": {
    "heading_collapsed": true,
    "hidden": true
   },
   "source": [
    "#### Defining new functions"
   ]
  },
  {
   "cell_type": "code",
   "execution_count": 40,
   "metadata": {
    "ExecuteTime": {
     "end_time": "2024-06-12T17:21:00.706685Z",
     "start_time": "2024-06-12T17:21:00.694555Z"
    },
    "hidden": true,
    "scrolled": true
   },
   "outputs": [],
   "source": [
    "def prob_conocer_2(edad,grupo,tasa_anual):\n",
    "    '''\n",
    "    Probability of knowing someone who has had this happen to them (thinking about someone and that person dying), as a function of age.\n",
    "    '''\n",
    "    #Vectors to modify\n",
    "    prob_ocur_persona = list(range(0, len(edad)))\n",
    "    prob_amigos       = list(range(0, len(edad)))\n",
    "    for i in range(len(edad)):\n",
    "        prob_ocur_persona[i] = 1-(1-muertes/poblacion)**(tasa_anual*(edad[i]-15))\n",
    "        prob_amigos[i] = 1-(1-prob_ocur_persona[i])**(grupo[i])\n",
    "    if edad[0]>=15:\n",
    "        return prob_amigos\n",
    "    else:\n",
    "        return 0\n",
    "\n",
    "def grafico2(tasa_anual):\n",
    "    y_fit=prob_conocer_2(ed,con(ed),tasa_anual)\n",
    "    y=prob_conocer_2(edades_numero,conocidos,tasa_anual)\n",
    "    plt.figure(figsize=(5,3), dpi=300)\n",
    "    plt.plot(ed,y_fit, linewidth=2, color= 'orange', label='Curva Ajustada')\n",
    "    plt.plot(edades_numero, y,\n",
    "             marker='.', linewidth=2, markersize = 7, markeredgecolor = 'red',label='Curva Dura')\n",
    "    plt.xlabel('Age',fontdict={'fontname': 'Corbel', 'fontsize':13})\n",
    "    plt.ylabel('Probability of knowing someone who has had this happen to them',fontdict={'fontname': 'Corbel', 'fontsize':8})\n",
    "    plt.title('Probability by age for '+str(tasa_anual)+' events per year', fontdict={'fontname': 'Corbel', 'fontsize':15})\n",
    "    plt.xticks(edades_numero)\n",
    "    plt.yticks([0,0.1,0.2,0.3,0.4,0.5,0.6,0.7,0.8,0.9,1.0])\n",
    "    plt.grid(b=True, which='major', color='#666666', linestyle='-')\n",
    "    plt.legend()\n",
    "    plt.show()\n",
    "\n",
    "def prob_conocer_3(edad,grupo, usables,muertes,tasa_anual):\n",
    "    '''\n",
    "    Probability of knowing someone who has had this happen to them (thinking about someone and that person dying), as a function of age.\n",
    "    '''\n",
    "    prob_ocur_persona = np.zeros( shape=(len(edad),len(tasa_anual)) )  \n",
    "    prob_amigos       = np.zeros( shape=(len(edad),len(tasa_anual)) )  \n",
    "    for i in range(len(edad)):\n",
    "        for j in range(len(tasa_anual)):\n",
    "            prob_ocur_persona[i,j] = 1-(1-muertes/poblacion)**(tasa_anual[j]*(edad[i]-15))\n",
    "            prob_amigos[i,j] = 1-(1-prob_ocur_persona[i,j])**(grupo[i])\n",
    "    return prob_amigos\n",
    "        \n"
   ]
  },
  {
   "cell_type": "markdown",
   "metadata": {
    "heading_collapsed": true
   },
   "source": [
    "## 2nd Interactive Plot!"
   ]
  },
  {
   "cell_type": "code",
   "execution_count": 41,
   "metadata": {
    "ExecuteTime": {
     "end_time": "2024-06-12T17:21:48.394458Z",
     "start_time": "2024-06-12T17:21:48.155315Z"
    },
    "code_folding": [
     2
    ],
    "hidden": true
   },
   "outputs": [
    {
     "name": "stdout",
     "output_type": "stream",
     "text": [
      "You can use the bars to modify the number of times per year a person can have \"the feeling.\"\n"
     ]
    },
    {
     "data": {
      "application/vnd.jupyter.widget-view+json": {
       "model_id": "3b10195620ba4235863ed1485830abc4",
       "version_major": 2,
       "version_minor": 0
      },
      "text/plain": [
       "interactive(children=(IntSlider(value=4, continuous_update=False, description='# Times', max=365, min=1), Outp…"
      ]
     },
     "metadata": {},
     "output_type": "display_data"
    }
   ],
   "source": [
    "#With widgets\n",
    "print('You can use the bars to modify the number of times per year a person can have \"the feeling.\"')\n",
    "ipw.interactive(\n",
    "    grafico2,\n",
    "    tasa_anual = slider_rate_2,\n",
    ")"
   ]
  },
  {
   "cell_type": "markdown",
   "metadata": {
    "heading_collapsed": true
   },
   "source": [
    "## And for the grand finale\n",
    "Now all that remains is to make a 3D graph where you can see how the probability changes depending on the number of annual events and the age.\n",
    "This graph will not be interactive because it already has all the information inside it"
   ]
  },
  {
   "cell_type": "markdown",
   "metadata": {
    "heading_collapsed": true,
    "hidden": true
   },
   "source": [
    "### Define variables"
   ]
  },
  {
   "cell_type": "code",
   "execution_count": 46,
   "metadata": {
    "ExecuteTime": {
     "end_time": "2024-06-12T17:27:14.217534Z",
     "start_time": "2024-06-12T17:27:14.162352Z"
    },
    "code_folding": [],
    "hidden": true
   },
   "outputs": [],
   "source": [
    "#we create the vectors that we will need to generate the matrix\n",
    "tasa_anual_2  = list(range(1,366))\n",
    "tasa_diaria_2  = list(range(1,366))\n",
    "for i in range(0,len(tasa_anual_2)):\n",
    "    tasa_diaria_2 [i] = tasa_anual_2[i]*Usables/365\n",
    "\n",
    "#Generate the matrix\n",
    "calculo = prob_conocer_3(ed,con(ed), Usables,muertes,tasa_anual_2)"
   ]
  },
  {
   "cell_type": "markdown",
   "metadata": {
    "heading_collapsed": true,
    "hidden": true
   },
   "source": [
    "### And we plot"
   ]
  },
  {
   "cell_type": "code",
   "execution_count": 59,
   "metadata": {
    "ExecuteTime": {
     "end_time": "2024-06-12T17:33:35.506967Z",
     "start_time": "2024-06-12T17:33:35.367836Z"
    },
    "code_folding": [],
    "hidden": true
   },
   "outputs": [
    {
     "data": {
      "image/png": "[encoded data removed]",
      "text/plain": [
       "<Figure size 432x288 with 1 Axes>"
      ]
     },
     "metadata": {
      "needs_background": "light"
     },
     "output_type": "display_data"
    }
   ],
   "source": [
    "fig = plt.figure()\n",
    "ax = fig.add_subplot(projection='3d')\n",
    "\n",
    "#We generate a grid on which to display the results\n",
    "X,Y = np.meshgrid(ed,tasa_anual_2)\n",
    "#We transpose the results to fit the grid\n",
    "Z=np.transpose(calculo)\n",
    "ax.set_xlabel('Age')\n",
    "ax.set_ylabel('Times per Year')\n",
    "ax.set_zlabel('Probability')\n",
    "\n",
    "#plt.zlabel('Probabiliad')\n",
    "#plt.title('Probabilidad por Edad por Eventos al Año')\n",
    "ax.plot_wireframe(X,Y,Z, color='purple')\n",
    "\n",
    "#ax.title =('Probabilidad por Edad y por Eventos al Año')\n",
    "plt.show()\n",
    "\n"
   ]
  },
  {
   "cell_type": "markdown",
   "metadata": {
    "heading_collapsed": true
   },
   "source": [
    "## References\n",
    "\n",
    "1. https://datos.bancomundial.org/indicador/SP.POP.0014.TO.ZS\n",
    "2. https://ourworldindata.org/mental-health\n",
    "3. https://elpais.com/tecnologia/2019/07/09/actualidad/1562709377_124629.html\n",
    "4. https://observatoriosociallacaixa.org/-/cuantos-conocidos-tenemos\n",
    "5. https://nationalpost.com/news/world/humans-only-able-to-maintain-five-relationships-in-their-inner-circle-and-150-in-their-outer-circle-study-finds\n",
    "6. https://www.weforum.org/agenda/2020/05/how-many-people-die-each-day-covid-19-coronavirus/\n",
    "7. https://www.google.com/search?q=esperanza+de+vida+promedio+mundial&oq=esperanza+de+vida+promedio&aqs=chrome.0.0j69i57j0l6.5203j0j7&sourceid=chrome&ie=UTF-8\n",
    "8. https://www.mentalhealth.org.uk/statistics/mental-health-statistics-children-and-young-people\n"
   ]
  }
 ],
 "metadata": {
  "kernelspec": {
   "display_name": "Python 3",
   "language": "python",
   "name": "python3"
  },
  "language_info": {
   "codemirror_mode": {
    "name": "ipython",
    "version": 3
   },
   "file_extension": ".py",
   "mimetype": "text/x-python",
   "name": "python",
   "nbconvert_exporter": "python",
   "pygments_lexer": "ipython3",
   "version": "3.8.8"
  }
 },
 "nbformat": 4,
 "nbformat_minor": 4
}
